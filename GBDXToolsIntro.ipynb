{
 "cells": [
  {
   "cell_type": "markdown",
   "metadata": {},
   "source": [
    "# GBDX Tools Training Notebook"
   ]
  },
  {
   "cell_type": "markdown",
   "metadata": {},
   "source": [
    "## First initialize the Interface object that handles authentication"
   ]
  },
  {
   "cell_type": "code",
   "execution_count": null,
   "metadata": {
    "collapsed": true
   },
   "outputs": [],
   "source": [
    "from gbdxtools import Interface"
   ]
  },
  {
   "cell_type": "code",
   "execution_count": null,
   "metadata": {
    "collapsed": false
   },
   "outputs": [],
   "source": [
    "gbdx = Interface()"
   ]
  },
  {
   "cell_type": "markdown",
   "metadata": {},
   "source": [
    "## Searching for Data"
   ]
  },
  {
   "cell_type": "markdown",
   "metadata": {},
   "source": [
    "### Searching by Geographic Area"
   ]
  },
  {
   "cell_type": "code",
   "execution_count": null,
   "metadata": {
    "collapsed": false
   },
   "outputs": [],
   "source": [
    "wkt_string = \"POLYGON((-113.88427734375 40.36642741921034,-110.28076171875 40.36642741921034,-110.28076171875 37.565262680889965,-113.88427734375 37.565262680889965,-113.88427734375 40.36642741921034))\"\n",
    "results = gbdx.catalog.search(searchAreaWkt=wkt_string)"
   ]
  },
  {
   "cell_type": "code",
   "execution_count": null,
   "metadata": {
    "collapsed": false
   },
   "outputs": [],
   "source": [
    "results[0:10]"
   ]
  },
  {
   "cell_type": "markdown",
   "metadata": {},
   "source": [
    "### Adding a date filter"
   ]
  },
  {
   "cell_type": "code",
   "execution_count": null,
   "metadata": {
    "collapsed": false
   },
   "outputs": [],
   "source": [
    "wkt_string = \"POLYGON((-113.88427734375 40.36642741921034,-110.28076171875 40.36642741921034,-110.28076171875 37.565262680889965,-113.88427734375 37.565262680889965,-113.88427734375 40.36642741921034))\"\n",
    "results = gbdx.catalog.search(searchAreaWkt=wkt_string,\n",
    "                          startDate=\"2004-01-01T00:00:00.000Z\",\n",
    "                          endDate=\"2012-01-01T00:00:00.000Z\")"
   ]
  },
  {
   "cell_type": "code",
   "execution_count": null,
   "metadata": {
    "collapsed": true
   },
   "outputs": [],
   "source": [
    "results"
   ]
  },
  {
   "cell_type": "markdown",
   "metadata": {},
   "source": [
    "### You can add filters for any properties in the catalog items you are searching for. For example, here’s how you return only Quickbird 2 images:"
   ]
  },
  {
   "cell_type": "code",
   "execution_count": null,
   "metadata": {
    "collapsed": true
   },
   "outputs": [],
   "source": [
    "wkt_string = \"POLYGON((-113.88427734375 40.36642741921034,-110.28076171875 40.36642741921034,-110.28076171875 37.565262680889965,-113.88427734375 37.565262680889965,-113.88427734375 40.36642741921034))\"\n",
    "\n",
    "filters = [\"sensorPlatformName = 'QUICKBIRD02'\"]\n",
    "\n",
    "results = gbdx.catalog.search(searchAreaWkt=wkt_string,\n",
    "                          startDate=\"2004-01-01T00:00:00.000Z\",\n",
    "                          endDate=\"2012-01-01T00:00:00.000Z\",\n",
    "                          filters=filters)"
   ]
  },
  {
   "cell_type": "code",
   "execution_count": null,
   "metadata": {
    "collapsed": true
   },
   "outputs": [],
   "source": [
    "filters = [\n",
    "        \"(sensorPlatformName = 'WORLDVIEW01' OR sensorPlatformName ='QUICKBIRD02')\",\n",
    "        \"cloudCover < 10\",\n",
    "        \"offNadirAngle > 10\"\n",
    "]\n",
    "\n",
    "results = gbdx.catalog.search(searchAreaWkt=wkt_string,\n",
    "                          filters=filters)"
   ]
  },
  {
   "cell_type": "markdown",
   "metadata": {},
   "source": [
    "### Search by Types\n"
   ]
  },
  {
   "cell_type": "code",
   "execution_count": null,
   "metadata": {
    "collapsed": false
   },
   "outputs": [],
   "source": [
    "wkt_string = \"POLYGON((-113.88427734375 40.36642741921034,-110.28076171875 40.36642741921034,-110.28076171875 37.565262680889965,-113.88427734375 37.565262680889965,-113.88427734375 40.36642741921034))\"\n",
    "\n",
    "types = [ \"LandsatAcquisition\" ]\n",
    "\n",
    "results = gbdx.catalog.search(searchAreaWkt=wkt_string,\n",
    "                          types=types)\n",
    "results"
   ]
  },
  {
   "cell_type": "markdown",
   "metadata": {},
   "source": [
    "### Get Metadata Info about a given Catalog ID"
   ]
  },
  {
   "cell_type": "code",
   "execution_count": null,
   "metadata": {
    "collapsed": false
   },
   "outputs": [],
   "source": [
    "record = gbdx.catalog.get('1050410011360700')\n",
    "record"
   ]
  },
  {
   "cell_type": "markdown",
   "metadata": {},
   "source": [
    "### Find Data Location given a Catalog ID"
   ]
  },
  {
   "cell_type": "code",
   "execution_count": null,
   "metadata": {
    "collapsed": false
   },
   "outputs": [],
   "source": [
    "s3path = gbdx.catalog.get_data_location(catalog_id='1030010045539700')\n",
    "s3path"
   ]
  },
  {
   "cell_type": "markdown",
   "metadata": {},
   "source": [
    "# Ordering imagery"
   ]
  },
  {
   "cell_type": "markdown",
   "metadata": {},
   "source": [
    "### To order the image with DG factory catalog id 10400100143FC900:"
   ]
  },
  {
   "cell_type": "code",
   "execution_count": null,
   "metadata": {
    "collapsed": false
   },
   "outputs": [],
   "source": [
    "order_id = gbdx.ordering.order('10400100143FC900')\n",
    "print order_id"
   ]
  },
  {
   "cell_type": "markdown",
   "metadata": {},
   "source": [
    "### The order_id is unique to your image order and can be used to track the progress of your order. The ordered image sits in a directory on S3. The output of the following describes where:"
   ]
  },
  {
   "cell_type": "code",
   "execution_count": null,
   "metadata": {
    "collapsed": false
   },
   "outputs": [],
   "source": [
    "gbdx.ordering.status(order_id)"
   ]
  },
  {
   "cell_type": "markdown",
   "metadata": {},
   "source": [
    "# Running Worklfows\n",
    "\n",
    "### Workflows string tasks together to take imagery (or other data) do something to it, and produce an output.\n",
    "\n",
    "\n",
    "## Data Locations\n",
    "\n",
    "### Every GBDX account comes with an S3 storage location that you can access to put your output data as you're working the system. There are many ways to access this data - first let's get the location of your private bucket and the credentials for access:\n"
   ]
  },
  {
   "cell_type": "code",
   "execution_count": null,
   "metadata": {
    "collapsed": false
   },
   "outputs": [],
   "source": [
    "s3creds = gbdx.s3.info\n",
    "s3creds"
   ]
  },
  {
   "cell_type": "markdown",
   "metadata": {},
   "source": [
    "## Here’s a quick workflow that starts with a Worldview 2 image over San Francisco, runs it through DigitalGlobe’s “Fast Ortho” and “Acomp” tasks, then saves to a user-specified location under s3://bucket/prefix."
   ]
  },
  {
   "cell_type": "code",
   "execution_count": null,
   "metadata": {
    "collapsed": false
   },
   "outputs": [],
   "source": [
    "bucket = s3creds['bucket']\n",
    "prefix = s3creds['prefix']\n",
    "s3out = \"s3://\" + bucket + \"/\" + \"demo_output/\"\n",
    "\n",
    "data = \"s3://receiving-dgcs-tdgplatform-com/054813633050_01_003\" # WV02 Image over San Francisco\n",
    "aoptask = gbdx.Task(\"AOP_Strip_Processor\", data=data, enable_acomp=True, enable_pansharpen=True)\n",
    "workflow = gbdx.Workflow([ aoptask ])\n",
    "workflow.savedata(aoptask.outputs.data, location=\"demo_output\")\n",
    "workflow.execute()"
   ]
  },
  {
   "cell_type": "markdown",
   "metadata": {},
   "source": [
    "### We can easily cancel a workflow that we've kicked off as follows:"
   ]
  },
  {
   "cell_type": "code",
   "execution_count": null,
   "metadata": {
    "collapsed": true
   },
   "outputs": [],
   "source": [
    "workflow2 = gbdx.Workflow( [] )  # instantiate a blank workflow\n",
    "workflow2.id = <known_workflow_id>\n",
    "workflow2.cancel()"
   ]
  },
  {
   "cell_type": "markdown",
   "metadata": {},
   "source": [
    "### At this point the workflow is launched, and you can get status as follows:\n",
    "\n"
   ]
  },
  {
   "cell_type": "code",
   "execution_count": null,
   "metadata": {
    "collapsed": false
   },
   "outputs": [],
   "source": [
    "workflow.status"
   ]
  },
  {
   "cell_type": "markdown",
   "metadata": {},
   "source": [
    "## Tasks\n",
    "### Tasks take inputs, produce outputs, and gbdxtools knows about it all! "
   ]
  },
  {
   "cell_type": "code",
   "execution_count": null,
   "metadata": {
    "collapsed": false
   },
   "outputs": [],
   "source": [
    "task = gbdx.Task(\"AOP_Strip_Processor\")\n",
    "task.inputs"
   ]
  },
  {
   "cell_type": "markdown",
   "metadata": {},
   "source": [
    "### You can also interactively get more info on a particular input:"
   ]
  },
  {
   "cell_type": "code",
   "execution_count": null,
   "metadata": {
    "collapsed": false
   },
   "outputs": [],
   "source": [
    "task.inputs.enable_acomp"
   ]
  },
  {
   "cell_type": "markdown",
   "metadata": {},
   "source": [
    "### Task outputs can be interactively explored the same way as task inputs:\n",
    "\n"
   ]
  },
  {
   "cell_type": "code",
   "execution_count": null,
   "metadata": {
    "collapsed": false
   },
   "outputs": [],
   "source": [
    "task = gbdx.Task(\"AOP_Strip_Processor\")\n",
    "task.outputs"
   ]
  },
  {
   "cell_type": "code",
   "execution_count": null,
   "metadata": {
    "collapsed": false
   },
   "outputs": [],
   "source": [
    "task.outputs.log"
   ]
  },
  {
   "cell_type": "markdown",
   "metadata": {},
   "source": [
    "## Linking Outputs from one task into Inputs of Another Task\n",
    "\n",
    "### The whole point of the workflow system is to build complex workflows with automagic data movement between tasks. This can be done as follows:"
   ]
  },
  {
   "cell_type": "code",
   "execution_count": null,
   "metadata": {
    "collapsed": true
   },
   "outputs": [],
   "source": [
    "task1 = gbdx.Task(\"AOP_Strip_Processor\")\n",
    "task2 = gbdx.Task(\"Some_Other_task\")\n",
    "task2.inputs.<input_name> = task1.outputs.<output_name>.value"
   ]
  },
  {
   "cell_type": "markdown",
   "metadata": {},
   "source": [
    "## Let's put this together and run a more complex workflow"
   ]
  },
  {
   "cell_type": "code",
   "execution_count": null,
   "metadata": {
    "collapsed": true
   },
   "outputs": [],
   "source": [
    "data = \"s3://receiving-dgcs-tdgplatform-com/054813633050_01_003\"\n",
    "aoptask = gbdx.Task(\"AOP_Strip_Processor\", data=data, enable_acomp=True, enable_pansharpen=False, enable_dra=False, bands='MS')\n",
    "pp_task = gbdx.Task(\"ProtogenPrep\",raster=aoptask.outputs.data.value)      # ProtogenPrep task is used to get AOP output into proper format for protogen task\n",
    "prot_lulc = gbdx.Task(\"protogenV2LULC\", raster=pp_task.outputs.data.value)\n",
    "workflow = gbdx.Workflow([ aoptask, pp_task, prot_lulc ])\n",
    "workflow.savedata(prot_lulc.outputs.data.value, location=\"some_folder_under_your_bucket_prefix\")\n",
    "workflow.execute()"
   ]
  }
 ],
 "metadata": {
  "kernelspec": {
   "display_name": "Python 2",
   "language": "python",
   "name": "python2"
  },
  "language_info": {
   "codemirror_mode": {
    "name": "ipython",
    "version": 2
   },
   "file_extension": ".py",
   "mimetype": "text/x-python",
   "name": "python",
   "nbconvert_exporter": "python",
   "pygments_lexer": "ipython2",
   "version": "2.7.11"
  }
 },
 "nbformat": 4,
 "nbformat_minor": 0
}
